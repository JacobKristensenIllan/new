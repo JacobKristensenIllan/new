{
  "nbformat": 4,
  "nbformat_minor": 0,
  "metadata": {
    "colab": {
      "name": "TwitterAPI.ipynb",
      "provenance": [],
      "authorship_tag": "ABX9TyOctkp3iKxuz3+7P05QoCSm",
      "include_colab_link": true
    },
    "kernelspec": {
      "name": "python3",
      "display_name": "Python 3"
    }
  },
  "cells": [
    {
      "cell_type": "markdown",
      "metadata": {
        "id": "view-in-github",
        "colab_type": "text"
      },
      "source": [
        "<a href=\"https://colab.research.google.com/github/kri-jac/AlternativeVotingSystem/blob/master/TwitterAPI.ipynb\" target=\"_parent\"><img src=\"https://colab.research.google.com/assets/colab-badge.svg\" alt=\"Open In Colab\"/></a>"
      ]
    },
    {
      "cell_type": "code",
      "metadata": {
        "id": "R_uJWPqe5rsd"
      },
      "source": [
        "import os\n",
        "import tweepy as tw\n",
        "import pandas as pd\n",
        "\n",
        " \n",
        "consumer_key = 'Mb97UkSAxLdw3aJGvLvMDWVSz'\n",
        "consumer_secret = 'wly2t4wTWWo27z7BNXcdkuDoIfQg7BhIgFw0nmCc9wdhlFEOkW'\n",
        "access_key= '1211756547367301121-RTx7PNXabX8V8tMyYSlFFzFRSLGMfe'\n",
        "access_secret = 'QCMco5hwdawxpwerpiCDTWm4X8AWOvAVwhKgBT5d3JZvX'"
      ],
      "execution_count": 20,
      "outputs": []
    },
    {
      "cell_type": "code",
      "metadata": {
        "id": "6jkhnPQt8CVr"
      },
      "source": [
        "auth = tw.OAuthHandler(consumer_key, consumer_secret)\n",
        "auth.set_access_token(access_key, access_secret)\n",
        "api = tw.API(auth,wait_on_rate_limit=True)"
      ],
      "execution_count": 21,
      "outputs": []
    },
    {
      "cell_type": "code",
      "metadata": {
        "id": "gBcOinZ88O9U"
      },
      "source": [
        "search_words = \"#trump\"\n",
        "date_since = \"2020-11-01\""
      ],
      "execution_count": 24,
      "outputs": []
    },
    {
      "cell_type": "code",
      "metadata": {
        "colab": {
          "base_uri": "https://localhost:8080/"
        },
        "id": "GeRNDr2B8VyE",
        "outputId": "5b9343c5-0cfa-4bb8-f36d-7495689654ad"
      },
      "source": [
        "# Collect tweets\n",
        "tweets = tw.Cursor(api.search,\n",
        "              q=search_words,\n",
        "              lang=\"en\",\n",
        "              since=date_since).items(5)\n",
        "tweets\n"
      ],
      "execution_count": 31,
      "outputs": [
        {
          "output_type": "execute_result",
          "data": {
            "text/plain": [
              "<tweepy.cursor.ItemIterator at 0x7f53f65384e0>"
            ]
          },
          "metadata": {
            "tags": []
          },
          "execution_count": 31
        }
      ]
    },
    {
      "cell_type": "code",
      "metadata": {
        "colab": {
          "base_uri": "https://localhost:8080/"
        },
        "id": "RcBHTI6c9vzb",
        "outputId": "ef3a040f-ae9f-4c91-bae6-117a7895065e"
      },
      "source": [
        "# Collect a list of tweets\n",
        "[tweet.text for tweet in tweets]"
      ],
      "execution_count": 32,
      "outputs": [
        {
          "output_type": "execute_result",
          "data": {
            "text/plain": [
              "['RT @archer_rs: One final favour to Putin.\\n\\nTrump has removed the U.S from the Open Skies Treaty that supplies the U.S. and its allies with…',\n",
              " 'RT @MikevWUSA: NOW &gt;&gt; GSA Body Bag protest — the group @RefuseFascism just had a silent procession outside the General Services Administrat…',\n",
              " 'David Rowe on #Trump #Biden #RudyGiuliani #COVID19 - political cartoon gallery in London https://t.co/dePcTdnXF6 https://t.co/XylNKJmo1k',\n",
              " 'Reading High basketball coach Rick Perez suspended SEE MORE HERE ==&gt; https://t.co/2CVGAJFLHG   #blackfriday… https://t.co/5qXLiaP1By',\n",
              " 'RT @TribulationThe: BOMBSHELL!!!!!!!!!!!!!!!!\\n\\nWHISTLEBLOWERS: Biden Implicated In Dominion Voting Scam Connected To Serbia!\\n\\nhttps://t.co/…']"
            ]
          },
          "metadata": {
            "tags": []
          },
          "execution_count": 32
        }
      ]
    }
  ]
}